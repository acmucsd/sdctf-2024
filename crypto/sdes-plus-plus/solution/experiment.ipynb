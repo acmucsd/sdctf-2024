{
 "cells": [
  {
   "cell_type": "code",
   "execution_count": 4,
   "metadata": {},
   "outputs": [],
   "source": [
    "# DO NOT INCLUDE THIS IN THE ACTUAL SOURCE CODE WE GIVE THE CTF PLAYERS!!!\n",
    "import random"
   ]
  },
  {
   "cell_type": "code",
   "execution_count": 281,
   "metadata": {},
   "outputs": [],
   "source": [
    "def count_pairings(n):\n",
    "    return factorial(2*n) / (2^n * factorial(n))\n",
    "\n",
    "def sample():\n",
    "    perm1 = list(range(1, 256+1))\n",
    "    perm2 = list(range(1, 256+1))\n",
    "    random.shuffle(perm1)\n",
    "    random.shuffle(perm2)\n",
    "    cycles1 = []\n",
    "    cycles2 = []\n",
    "    for i in range(0, 256, 2):\n",
    "        cycles1.append((perm1[i], perm1[i+1]))\n",
    "        cycles2.append((perm2[i], perm2[i+1]))\n",
    "    involution1 = Permutation(cycles1)\n",
    "    involution2 = Permutation(cycles2)\n",
    "    cycles = (involution1 * involution2).to_cycles()\n",
    "    cycle_lengths = list(len(x) for x in cycles)\n",
    "    cycle_lengths_dict = {}\n",
    "    for x in cycle_lengths:\n",
    "        if x not in cycle_lengths_dict:\n",
    "            cycle_lengths_dict[x] = 0\n",
    "        cycle_lengths_dict[x] += 1\n",
    "    result = 1\n",
    "    for x in cycle_lengths_dict:\n",
    "        result *= count_pairings(cycle_lengths_dict[x] / 2)\n",
    "        result *= x\n",
    "    return result\n",
    "    "
   ]
  },
  {
   "cell_type": "code",
   "execution_count": 367,
   "metadata": {},
   "outputs": [
    {
     "data": {
      "text/plain": [
       "128"
      ]
     },
     "execution_count": 367,
     "metadata": {},
     "output_type": "execute_result"
    }
   ],
   "source": [
    "min(sample() for _ in range(10))"
   ]
  }
 ],
 "metadata": {
  "kernelspec": {
   "display_name": "SageMath 9.6",
   "language": "sage",
   "name": "sagemath"
  },
  "language_info": {
   "codemirror_mode": {
    "name": "ipython",
    "version": 3
   },
   "file_extension": ".py",
   "mimetype": "text/x-python",
   "name": "python",
   "nbconvert_exporter": "python",
   "pygments_lexer": "ipython3",
   "version": "3.11.6"
  }
 },
 "nbformat": 4,
 "nbformat_minor": 2
}
