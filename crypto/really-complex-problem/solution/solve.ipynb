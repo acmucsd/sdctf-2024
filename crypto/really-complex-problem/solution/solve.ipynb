{
 "cells": [
  {
   "cell_type": "code",
   "execution_count": 2,
   "id": "c70cb5eb",
   "metadata": {
    "vscode": {
     "languageId": "plaintext"
    }
   },
   "outputs": [],
   "source": [
    "N = -117299665605343495500066013555546076891571528636736883265983243281045565874069282036132569271343532425435403925990694272204217691971976685920273893973797616802516331406709922157786766589075886459162920695874603236839806916925542657466542953678792969287219257233403203242858179791740250326198622797423733569670 + 617172569155876114160249979318183957086418478036314203819815011219450427773053947820677575617572314219592171759604357329173777288097332855501264419608220917546700717670558690359302077360008042395300149918398522094125315589513372914540059665197629643888216132356902179279651187843326175381385350379751159740993*I\n",
    "a = 1671911043329305519973004484847472037065973037107329742284724545409541682312778072234 * 10^70 + + 193097758392744599866999513352336709963617764800771451559221624428090414152709219472155 * 10^68 * I"
   ]
  },
  {
   "cell_type": "code",
   "execution_count": 3,
   "id": "134d0237",
   "metadata": {
    "vscode": {
     "languageId": "plaintext"
    }
   },
   "outputs": [],
   "source": [
    "def coefficient_poly(g, m):\n",
    "    assert(g.degree() <= m)\n",
    "    unpadded_result = g.coefficients(sparse=False)\n",
    "    result = unpadded_result + [0] * (m - len(unpadded_result))\n",
    "    return vector(result)\n",
    "\n",
    "# get block matrix canonical embedding of Gaussian integer z, scaled with lmbds \n",
    "def get_block_matrix(z, s, limits):\n",
    "    return matrix(ZZ, [[limits[0]^s * z.real(), limits[1]^s * z.imag()], [-1 * limits[0]^s * z.imag(), limits[1]^s * z.real()]])\n",
    "\n",
    "def complex_coppersmith(f, N, limits, k=3, t=3):\n",
    "    x = f.parent().gen(0)\n",
    "    d = f.degree()\n",
    "    m = d * k + t\n",
    "    blocks = []\n",
    "    for i in range(k):\n",
    "        for j in range(d):\n",
    "            poly = x^j * f^i * N^(k-i)\n",
    "            poly_coeffs = coefficient_poly(poly, m)\n",
    "            block_matrix_row = [get_block_matrix(z, s, limits) for (s, z) in enumerate(poly_coeffs)]\n",
    "            blocks.append(block_matrix_row)\n",
    "    for j in range(t):\n",
    "        poly = x^j * f^k\n",
    "        poly_coeffs = coefficient_poly(poly, m)\n",
    "        block_matrix_row = [get_block_matrix(z, s, limits) for (s, z) in enumerate(poly_coeffs)]\n",
    "        blocks.append(block_matrix_row)\n",
    "    \n",
    "    M = block_matrix(blocks)\n",
    "    \n",
    "    M_reduced = M.LLL(); v = M_reduced[0]\n",
    "\n",
    "    Q = 0\n",
    "    for (s, i) in enumerate(list(range(0, len(v), 2))):\n",
    "        z = v[i] / (limits[0]^s) + v[i+1] / (limits[1]^s) * I\n",
    "        Q += z * x^s\n",
    "    return Q"
   ]
  },
  {
   "cell_type": "code",
   "execution_count": 4,
   "id": "08e72eec",
   "metadata": {
    "vscode": {
     "languageId": "plaintext"
    }
   },
   "outputs": [],
   "source": [
    "R.<x> = PolynomialRing(I.parent(), \"x\")\n",
    "f = x + a; f\n",
    "Q = complex_coppersmith(f, N, [10^70, 10^68], k=10, t=10)"
   ]
  },
  {
   "cell_type": "code",
   "execution_count": 5,
   "id": "25f32c33",
   "metadata": {
    "vscode": {
     "languageId": "python"
    }
   },
   "outputs": [
    {
     "data": {
      "text/plain": [
       "[(38885530450742215892390797656090317247451645952898238958411902273365*I + 7969971216531422897795829216783415368573272798190263112723158574187978,\n",
       "  1)]"
      ]
     },
     "execution_count": 5,
     "metadata": {},
     "output_type": "execute_result"
    }
   ],
   "source": [
    "Q.roots()"
   ]
  },
  {
   "cell_type": "code",
   "execution_count": 6,
   "id": "0c5afb97",
   "metadata": {
    "vscode": {
     "languageId": "python"
    }
   },
   "outputs": [
    {
     "data": {
      "text/plain": [
       "19309775839274459986699951335233670996361776480077145155922162442809041415270921947215538885530450742215892390797656090317247451645952898238958411902273365*I + 16719110433293055199730044848474720370659730371073297422847245454095416823127780722347969971216531422897795829216783415368573272798190263112723158574187978"
      ]
     },
     "execution_count": 6,
     "metadata": {},
     "output_type": "execute_result"
    }
   ],
   "source": [
    "p = a + Q.roots()[0][0]\n",
    "p"
   ]
  },
  {
   "cell_type": "code",
   "execution_count": 7,
   "id": "a7146470",
   "metadata": {
    "vscode": {
     "languageId": "python"
    }
   },
   "outputs": [
    {
     "data": {
      "text/plain": [
       "652396096643676367544566156124913216163410921734827378316264717178043201248098216744333182034733046461246836969083455954245444287495898970654732184830855419214640885149170735361071243374488441853305632933085361898289750475979418539227694088799586535639304205925186104659033478286855260238037651424137268151709"
      ]
     },
     "execution_count": 7,
     "metadata": {},
     "output_type": "execute_result"
    }
   ],
   "source": [
    "p.norm()"
   ]
  },
  {
   "cell_type": "code",
   "execution_count": 10,
   "id": "f324460d",
   "metadata": {
    "vscode": {
     "languageId": "python"
    }
   },
   "outputs": [
    {
     "data": {
      "text/plain": [
       "604941068317189652627858851523167292428948871043205807414277515111804456754639695955081185290003101108400607518848813115420632093104992473355039185637288241681868004615473802877209913302613123923904488351942249382653677543786493647849046273946794244961213693227449138212955169271151864267238394436697214152361"
      ]
     },
     "execution_count": 10,
     "metadata": {},
     "output_type": "execute_result"
    }
   ],
   "source": [
    "N.norm() / p.norm()"
   ]
  }
 ],
 "metadata": {
  "kernelspec": {
   "display_name": "SageMath 9.6",
   "language": "sage",
   "name": "sagemath"
  },
  "language_info": {
   "codemirror_mode": {
    "name": "ipython",
    "version": 3
   },
   "file_extension": ".py",
   "mimetype": "text/x-python",
   "name": "sage",
   "nbconvert_exporter": "python",
   "pygments_lexer": "ipython3",
   "version": "3.11.6"
  }
 },
 "nbformat": 4,
 "nbformat_minor": 5
}
